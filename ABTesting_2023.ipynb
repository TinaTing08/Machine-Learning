{
  "nbformat": 4,
  "nbformat_minor": 0,
  "metadata": {
    "colab": {
      "provenance": [],
      "include_colab_link": true
    },
    "kernelspec": {
      "name": "python3",
      "display_name": "Python 3"
    }
  },
  "cells": [
    {
      "cell_type": "markdown",
      "metadata": {
        "id": "view-in-github",
        "colab_type": "text"
      },
      "source": [
        "<a href=\"https://colab.research.google.com/github/TinaTing08/Machine-Learning/blob/main/ABTesting_2023.ipynb\" target=\"_parent\"><img src=\"https://colab.research.google.com/assets/colab-badge.svg\" alt=\"Open In Colab\"/></a>"
      ]
    },
    {
      "cell_type": "markdown",
      "metadata": {
        "id": "0lDMB9YjAeKP"
      },
      "source": [
        "**AB testing**"
      ]
    },
    {
      "cell_type": "markdown",
      "metadata": {
        "id": "iMtgNGOzRHZf"
      },
      "source": [
        "Generate 100000 dice rolling results"
      ]
    },
    {
      "cell_type": "code",
      "metadata": {
        "id": "ClBBA2IHAZPh",
        "colab": {
          "base_uri": "https://localhost:8080/"
        },
        "outputId": "2b73ac11-3f1a-43e8-c036-56692183487e"
      },
      "source": [
        "import numpy as np \n",
        "random_data = np.random.randint(1, 7, 100000)\n",
        "print(random_data.mean()) \n",
        "print(random_data.std()) "
      ],
      "execution_count": null,
      "outputs": [
        {
          "output_type": "stream",
          "name": "stdout",
          "text": [
            "3.4984\n",
            "1.709835500859659\n"
          ]
        }
      ]
    },
    {
      "cell_type": "code",
      "metadata": {
        "id": "S5uIaVWUgzlR",
        "colab": {
          "base_uri": "https://localhost:8080/"
        },
        "outputId": "f05b0c24-cdf7-402f-f55f-b036fc02b1e7"
      },
      "source": [
        "print(random_data[0:100])"
      ],
      "execution_count": null,
      "outputs": [
        {
          "output_type": "stream",
          "name": "stdout",
          "text": [
            "[1 3 5 5 3 2 2 2 1 3 1 1 1 2 5 6 4 1 5 2 5 6 4 2 1 1 2 1 5 1 5 5 5 3 3 2 2\n",
            " 4 5 2 1 1 2 3 3 6 4 2 6 3 2 6 2 5 6 1 1 3 3 2 4 5 2 4 4 5 5 1 4 5 1 2 6 4\n",
            " 1 3 3 5 6 4 1 2 4 1 4 1 4 2 3 1 5 4 1 6 4 3 5 1 1 1]\n"
          ]
        }
      ]
    },
    {
      "cell_type": "code",
      "metadata": {
        "id": "SCCr0s-EAoIb",
        "colab": {
          "base_uri": "https://localhost:8080/"
        },
        "outputId": "0f802461-cc62-4bec-cbc7-0034fa751754"
      },
      "source": [
        "sample1 = []\n",
        "for i in range(0, 10):\n",
        "    sample1.append(random_data[int(np.random.random() * len(random_data))])\n",
        "\n",
        "print(sample1)"
      ],
      "execution_count": null,
      "outputs": [
        {
          "output_type": "stream",
          "name": "stdout",
          "text": [
            "[3, 3, 2, 5, 1, 5, 2, 2, 5, 3]\n"
          ]
        }
      ]
    },
    {
      "cell_type": "code",
      "source": [
        "import matplotlib.pyplot as plt\n",
        "plt.rcParams.update({'figure.figsize':(7,5), 'figure.dpi':100})\n",
        "\n",
        "plt.hist(random_data)\n",
        "plt.gca().set(title='Frequency Histogram', ylabel='Frequency');\n"
      ],
      "metadata": {
        "colab": {
          "base_uri": "https://localhost:8080/",
          "height": 460
        },
        "id": "5n4n1e6o0Ut5",
        "outputId": "483b8a57-22c9-4df5-ea11-2f4904f689f6"
      },
      "execution_count": null,
      "outputs": [
        {
          "output_type": "display_data",
          "data": {
            "text/plain": [
              "<Figure size 700x500 with 1 Axes>"
            ],
            "image/png": "[encoded data removed]"
          },
          "metadata": {
            "needs_background": "light"
          }
        }
      ]
    },
    {
      "cell_type": "code",
      "metadata": {
        "id": "k4YjFg7fDmdb",
        "colab": {
          "base_uri": "https://localhost:8080/"
        },
        "outputId": "4e439e76-c839-43fb-ca2a-49776fa02db7"
      },
      "source": [
        "np.mean(sample1)"
      ],
      "execution_count": null,
      "outputs": [
        {
          "output_type": "execute_result",
          "data": {
            "text/plain": [
              "3.1"
            ]
          },
          "metadata": {},
          "execution_count": 5
        }
      ]
    },
    {
      "cell_type": "code",
      "metadata": {
        "id": "_63vUGURECM5",
        "colab": {
          "base_uri": "https://localhost:8080/"
        },
        "outputId": "1506a6e8-6722-49cc-a306-7f6195280a94"
      },
      "source": [
        "np.std(sample1)"
      ],
      "execution_count": null,
      "outputs": [
        {
          "output_type": "execute_result",
          "data": {
            "text/plain": [
              "1.374772708486752"
            ]
          },
          "metadata": {},
          "execution_count": 6
        }
      ]
    },
    {
      "cell_type": "markdown",
      "metadata": {
        "id": "cnuJDj-ZRXYf"
      },
      "source": [
        "CLT Central Limit Theorem "
      ]
    },
    {
      "cell_type": "code",
      "metadata": {
        "id": "kkVlFzfUA0JS",
        "colab": {
          "base_uri": "https://localhost:8080/"
        },
        "outputId": "7cec992b-8565-41ec-fe01-c5cbaf994894"
      },
      "source": [
        "samples = []\n",
        "samples_mean = []\n",
        "samples_std = []\n",
        "\n",
        "for i in range(0, 1000):\n",
        "    sample = []\n",
        "    for j in range(0, 50):\n",
        "        sample.append(random_data[int(np.random.random() * len(random_data))])\n",
        "    sample_np = np.array(sample)\n",
        "    samples_mean.append(sample_np.mean())\n",
        "    samples_std.append(sample_np.std())\n",
        "    samples.append(sample_np)\n",
        "\n",
        "samples_mean_np = np.array(samples_mean)\n",
        "samples_std_np = np.array(samples_std)\n",
        "\n",
        "print(samples_mean_np)"
      ],
      "execution_count": null,
      "outputs": [
        {
          "output_type": "stream",
          "name": "stdout",
          "text": [
            "[4.   3.92 3.44 3.64 3.58 3.5  3.5  3.6  3.64 3.5  3.72 3.68 3.06 3.08\n",
            " 3.2  3.2  3.96 3.64 3.36 3.68 3.4  3.68 3.48 3.72 3.54 3.38 3.1  3.48\n",
            " 3.7  3.62 3.4  3.3  3.52 3.78 3.14 3.74 3.82 3.58 3.36 3.62 3.18 3.52\n",
            " 3.   3.46 3.34 3.84 3.22 3.5  3.68 3.2  3.36 3.3  3.3  3.3  3.44 3.68\n",
            " 4.28 3.64 2.9  3.26 3.14 3.64 3.36 3.26 3.52 3.88 3.5  3.46 3.54 3.2\n",
            " 3.28 3.24 3.6  3.52 3.82 3.26 3.84 3.68 3.68 3.04 3.58 3.5  3.26 3.32\n",
            " 3.74 3.2  3.4  3.58 3.26 3.7  3.48 3.38 3.7  3.66 3.24 3.44 3.36 3.08\n",
            " 3.26 3.8  3.7  3.78 3.72 3.5  3.12 3.36 3.5  3.54 3.52 3.52 3.62 3.36\n",
            " 3.54 3.   3.32 3.34 3.44 3.5  3.6  3.68 3.46 3.52 3.82 3.24 3.56 3.6\n",
            " 3.7  3.76 2.86 3.2  3.42 3.62 3.52 3.48 3.62 3.5  3.36 3.9  3.64 3.5\n",
            " 3.42 4.2  3.14 3.48 3.14 3.2  3.46 3.46 3.62 3.58 3.56 3.62 3.56 3.38\n",
            " 3.34 3.4  3.42 3.38 3.42 3.9  3.4  3.82 3.44 3.3  3.48 3.62 3.66 3.54\n",
            " 3.32 3.46 3.22 3.7  3.8  3.58 3.68 3.66 3.58 2.96 3.54 3.6  3.5  3.76\n",
            " 3.6  3.6  3.36 3.38 3.6  3.22 3.9  3.42 3.54 3.4  3.66 3.54 3.52 3.46\n",
            " 3.26 3.2  3.54 3.6  3.78 3.34 3.38 3.82 3.94 3.62 3.52 3.66 3.8  3.54\n",
            " 3.42 3.66 3.62 3.54 3.72 3.3  3.2  3.86 3.6  3.54 3.06 3.44 3.86 3.24\n",
            " 3.24 3.38 3.28 3.84 3.28 3.76 3.4  3.48 3.56 3.26 3.68 3.06 3.58 3.\n",
            " 3.84 3.54 3.24 3.52 3.58 3.66 3.72 3.48 3.6  3.72 3.58 3.22 3.5  3.48\n",
            " 3.76 3.08 3.32 3.36 4.12 3.42 3.54 3.44 3.5  3.14 3.22 3.5  3.28 3.18\n",
            " 3.36 3.24 3.34 3.34 3.68 3.68 3.54 3.1  3.78 3.6  3.84 3.26 2.96 3.64\n",
            " 3.92 3.16 3.   3.14 3.38 3.3  3.16 3.64 3.66 3.58 3.72 3.68 3.44 3.32\n",
            " 3.46 3.24 3.8  3.82 3.44 3.2  3.1  3.52 3.26 3.56 3.56 3.46 3.48 3.6\n",
            " 3.56 3.62 3.24 3.36 3.3  3.6  3.58 3.56 3.68 3.46 3.42 3.74 3.76 3.36\n",
            " 3.64 3.52 3.34 3.4  4.04 3.36 3.38 3.6  3.44 4.1  3.28 3.64 3.36 3.76\n",
            " 3.72 3.62 3.82 3.9  3.34 4.04 3.42 3.44 2.84 3.5  3.38 3.46 3.58 3.54\n",
            " 3.5  3.8  3.62 3.5  3.66 3.8  3.66 3.36 3.36 3.38 3.5  3.34 3.48 3.44\n",
            " 3.06 3.52 3.66 3.66 3.5  3.34 3.22 3.02 3.62 3.18 3.4  3.62 3.6  3.76\n",
            " 3.8  3.48 3.56 3.56 3.64 3.58 3.36 3.3  3.52 3.64 3.56 3.24 3.86 3.5\n",
            " 3.46 3.04 3.74 3.52 3.86 3.2  3.5  3.3  3.86 3.42 3.62 3.5  3.58 3.8\n",
            " 3.4  3.52 3.66 3.42 3.76 3.52 3.24 3.44 3.82 3.2  3.36 3.42 3.62 3.28\n",
            " 3.34 3.22 3.18 3.48 3.   3.48 3.26 4.08 3.32 3.12 3.44 3.18 3.3  3.78\n",
            " 3.74 3.4  3.4  3.54 3.18 3.36 3.78 3.54 3.52 3.3  3.58 3.54 3.72 3.52\n",
            " 4.04 2.86 3.34 3.42 3.42 3.54 3.62 3.56 3.52 3.22 3.26 3.24 2.96 3.42\n",
            " 3.52 3.66 3.64 3.34 3.88 3.38 3.68 3.32 3.52 3.36 3.6  3.76 3.5  3.5\n",
            " 2.92 3.28 3.38 3.34 3.78 3.5  3.6  3.18 3.94 3.7  3.3  3.94 3.58 3.44\n",
            " 3.38 3.58 3.7  3.6  3.28 3.6  3.32 3.86 3.48 3.3  3.88 3.72 3.28 3.72\n",
            " 3.18 3.64 3.08 3.24 3.18 3.74 3.56 3.72 3.06 3.4  3.2  3.78 3.08 3.82\n",
            " 3.46 3.06 3.76 3.54 2.68 3.96 3.5  3.58 3.52 3.34 3.32 3.62 4.08 3.44\n",
            " 3.52 3.7  3.6  3.32 3.44 3.4  3.4  3.26 3.3  3.58 3.26 3.02 3.92 3.5\n",
            " 3.34 3.26 3.7  3.68 3.44 3.34 3.08 3.74 3.6  3.44 3.34 3.98 3.52 3.48\n",
            " 3.12 3.   3.46 3.4  3.6  3.48 3.9  3.62 3.3  3.56 2.94 3.6  3.84 3.84\n",
            " 3.26 3.48 3.5  3.16 3.64 3.48 3.28 3.78 3.38 3.36 3.2  3.34 3.46 3.36\n",
            " 3.2  3.44 4.26 3.34 3.62 3.6  4.12 3.96 3.56 3.6  3.32 3.78 3.3  3.34\n",
            " 3.48 3.44 3.52 3.46 3.62 3.18 3.18 3.22 3.3  2.8  3.42 3.4  3.9  3.3\n",
            " 3.52 3.5  3.38 3.56 3.5  3.4  3.76 3.54 4.18 3.2  3.62 3.76 4.02 3.42\n",
            " 3.22 3.78 3.68 3.42 3.34 3.24 3.1  3.42 3.72 3.56 3.28 3.9  3.18 3.5\n",
            " 3.2  3.38 3.26 3.46 3.78 3.56 3.58 3.   3.36 3.4  3.42 3.94 3.52 3.72\n",
            " 3.56 3.76 3.16 3.88 3.36 3.38 3.8  3.64 3.72 3.48 3.52 3.7  3.36 2.8\n",
            " 3.58 3.48 3.54 3.3  3.86 3.38 3.86 3.58 3.6  3.62 3.64 3.2  3.58 3.34\n",
            " 3.96 3.34 3.2  3.3  3.42 3.46 3.4  3.3  3.2  3.68 3.1  3.62 3.58 3.34\n",
            " 3.66 3.42 3.34 3.18 3.32 3.36 3.5  3.42 3.82 3.86 3.2  3.6  3.44 3.34\n",
            " 3.74 3.98 3.36 3.76 3.4  3.36 3.54 3.64 3.52 3.34 3.62 3.38 3.1  3.94\n",
            " 3.6  3.86 3.6  3.52 3.58 3.66 3.9  3.62 3.38 3.52 3.36 4.22 3.38 2.9\n",
            " 3.22 3.5  3.46 3.8  3.46 3.82 3.68 3.66 3.7  3.44 3.76 3.44 3.66 3.52\n",
            " 3.4  3.68 3.82 3.32 3.7  3.34 3.58 3.68 3.9  3.54 3.54 3.24 3.96 3.58\n",
            " 3.76 3.78 3.12 3.36 3.26 4.04 3.5  3.5  3.38 3.14 3.76 3.26 3.94 3.36\n",
            " 3.48 3.24 4.04 3.48 3.78 3.32 3.82 3.4  3.68 3.32 3.72 3.76 3.44 3.8\n",
            " 3.5  3.78 3.66 3.64 3.34 3.64 3.7  3.04 3.4  3.2  3.62 3.44 3.44 3.28\n",
            " 3.   3.08 4.1  3.56 3.56 3.66 3.44 3.4  3.14 3.9  3.64 3.9  3.26 2.9\n",
            " 3.76 3.68 3.5  3.72 3.6  3.44 3.36 3.2  3.8  3.34 3.26 3.54 3.74 3.66\n",
            " 3.68 3.3  3.58 3.3  3.56 3.08 3.78 3.38 3.36 3.16 3.54 3.46 3.5  3.84\n",
            " 3.34 3.26 3.56 3.68 3.84 3.6  3.42 3.58 3.16 3.14 3.78 3.22 3.9  3.34\n",
            " 3.64 3.24 3.62 3.38 3.64 3.36 3.22 3.42 3.5  3.78 3.54 3.62 3.9  2.96\n",
            " 3.08 3.6  3.52 3.62 3.56 3.4  3.6  3.32 3.36 3.98 3.52 3.24 3.52 3.18\n",
            " 3.1  3.64 3.66 3.48 3.58 3.32 3.44 3.84 3.38 3.54 3.58 3.38 3.62 3.36\n",
            " 3.18 3.58 3.7  3.72 3.48 3.16 3.24 3.54 3.82 3.54 3.6  3.12 3.58 3.5\n",
            " 3.26 3.34 3.74 3.5  3.88 3.56 3.52 3.2  3.52 3.58 3.5  3.68 3.94 3.16\n",
            " 3.72 3.5  3.3  3.34 3.06 3.6  3.6  3.54 3.46 3.5  3.64 3.18 3.2  3.2\n",
            " 3.76 3.7  3.86 3.08 3.14 3.28 3.42 4.04 3.44 3.92 3.34 3.26 3.16 3.32\n",
            " 3.42 3.64 3.44 3.24 3.34 3.3  3.62 3.3  3.58 3.58 3.18 3.44 3.3  3.26\n",
            " 3.58 3.52 3.42 3.82 3.46 3.08 3.48 3.7  3.62 3.5  3.38 3.6  3.96 3.54\n",
            " 3.76 3.8  3.22 3.62 3.88 3.76]\n"
          ]
        }
      ]
    },
    {
      "cell_type": "code",
      "metadata": {
        "colab": {
          "base_uri": "https://localhost:8080/"
        },
        "id": "m5b6sMnuU5Wo",
        "outputId": "de7f8e4e-791f-46aa-8f77-57516dfd9d1b"
      },
      "source": [
        "samples_mean_mean = samples_mean_np.mean()\n",
        "print(samples_mean_mean)\n",
        "samples_mean_std = samples_mean_np.std()\n",
        "print(samples_mean_std)"
      ],
      "execution_count": null,
      "outputs": [
        {
          "output_type": "stream",
          "name": "stdout",
          "text": [
            "3.49382\n",
            "0.23862063531890948\n"
          ]
        }
      ]
    },
    {
      "cell_type": "code",
      "metadata": {
        "id": "cycnx-JCBSjY",
        "colab": {
          "base_uri": "https://localhost:8080/",
          "height": 460
        },
        "outputId": "3a78d11e-5abe-49f6-ff80-81991a5184c6"
      },
      "source": [
        "import matplotlib.pyplot as plt\n",
        "%matplotlib inline\n",
        "plt.rcParams.update({'figure.figsize':(7,5), 'figure.dpi':100})\n",
        "\n",
        "# Plot Histogram on x\n",
        "#x = np.random.normal(size = 1000)\n",
        "plt.hist(samples_mean_np, bins=20)\n",
        "plt.gca().set(title='Frequency Histogram', ylabel='Frequency');\n"
      ],
      "execution_count": null,
      "outputs": [
        {
          "output_type": "display_data",
          "data": {
            "text/plain": [
              "<Figure size 700x500 with 1 Axes>"
            ],
            "image/png": "[encoded data removed]"
          },
          "metadata": {
            "needs_background": "light"
          }
        }
      ]
    },
    {
      "cell_type": "markdown",
      "metadata": {
        "id": "FpaB2pRkRzkY"
      },
      "source": [
        "AB Testing examples"
      ]
    },
    {
      "cell_type": "code",
      "metadata": {
        "id": "7WBRl8PkKX9x",
        "colab": {
          "base_uri": "https://localhost:8080/"
        },
        "outputId": "1cda3645-c344-47ac-b7bd-5f2f1034375b"
      },
      "source": [
        "from scipy.stats import norm \n",
        "#norm.cdf(-24)\n",
        "norm.cdf(-0.632)"
      ],
      "execution_count": null,
      "outputs": [
        {
          "output_type": "execute_result",
          "data": {
            "text/plain": [
              "0.2636934386118963"
            ]
          },
          "metadata": {},
          "execution_count": 13
        }
      ]
    },
    {
      "cell_type": "code",
      "metadata": {
        "colab": {
          "base_uri": "https://localhost:8080/"
        },
        "id": "Dotxd4vE2m9T",
        "outputId": "63dfbd77-7eb0-4dec-cd0b-b69c4c83477c"
      },
      "source": [
        "from scipy.stats import norm \n",
        "norm.cdf(-2)"
      ],
      "execution_count": null,
      "outputs": [
        {
          "output_type": "execute_result",
          "data": {
            "text/plain": [
              "0.022750131948179195"
            ]
          },
          "metadata": {},
          "execution_count": 25
        }
      ]
    },
    {
      "cell_type": "code",
      "metadata": {
        "colab": {
          "base_uri": "https://localhost:8080/"
        },
        "id": "97q2-plA-8sS",
        "outputId": "9b544ac3-e8c4-42ad-f085-7f9abc82d2c8"
      },
      "source": [
        "from scipy.stats import t\n",
        "alpha = 0.05\n",
        "t_stat = 2\n",
        "df = 200\n",
        "p = (1-t.cdf(abs(t_stat),df))*2\n",
        "print(\"p value:\", p)"
      ],
      "execution_count": null,
      "outputs": [
        {
          "output_type": "stream",
          "name": "stdout",
          "text": [
            "p value: 0.04685318618707113\n"
          ]
        }
      ]
    },
    {
      "cell_type": "code",
      "metadata": {
        "id": "JbFvfrMXC9D1",
        "colab": {
          "base_uri": "https://localhost:8080/"
        },
        "outputId": "0ec5f0b5-44bc-4b1d-83ce-422fda8c263f"
      },
      "source": [
        "\n",
        "norm.cdf(-1.18)\n"
      ],
      "execution_count": null,
      "outputs": [
        {
          "output_type": "execute_result",
          "data": {
            "text/plain": [
              "0.11900010745520073"
            ]
          },
          "metadata": {},
          "execution_count": 14
        }
      ]
    },
    {
      "cell_type": "code",
      "metadata": {
        "id": "kpsdic7jKVY3",
        "colab": {
          "base_uri": "https://localhost:8080/"
        },
        "outputId": "f8da2fb6-ca33-49c5-c422-0f5fb538f005"
      },
      "source": [
        "norm.cdf(-3.6)\n"
      ],
      "execution_count": null,
      "outputs": [
        {
          "output_type": "execute_result",
          "data": {
            "text/plain": [
              "0.00015910859015753364"
            ]
          },
          "metadata": {},
          "execution_count": 14
        }
      ]
    },
    {
      "cell_type": "code",
      "source": [
        "import math\n",
        "import numpy as np\n",
        "from numpy.random import randn\n",
        "from statsmodels.stats.weightstats import ztest\n",
        "  \n",
        "# 随机产生 50 个session length having mean 101\n",
        "\n",
        "mean_Session_length = 102\n",
        "sd_Session_length = 15/math.sqrt(50)\n",
        "alpha =0.05\n",
        "\n",
        "Nathan_Default_mean =100\n",
        "data = sd_Session_length*randn(50)+mean_Session_length\n",
        "print(data)\n",
        "\n",
        "# print mean and sd\n",
        "print('mean=%.2f stdv=%.2f' % (np.mean(data), np.std(data)))\n",
        "  \n",
        "# now we perform the test. \n",
        "  \n",
        "ztest_Score, p_value= ztest(data,value = Nathan_Default_mean, alternative='larger')\n",
        "\n",
        "print(\"ztest_Score =\", ztest_Score)\n",
        "print(\"p_value =\", p_value)\n",
        "alpha = 0.05\n",
        "if p_value > alpha:\n",
        "\tprint('Cant reject null hypothesis - Lets assume they are the same.')\n",
        "else:\n",
        "\tprint('Reject the null hypothesis that the means are equal.  - They are different')"
      ],
      "metadata": {
        "colab": {
          "base_uri": "https://localhost:8080/"
        },
        "id": "hqBGqSZctSr_",
        "outputId": "ce263a7a-2fa9-48af-885d-c93ee0951c24"
      },
      "execution_count": null,
      "outputs": [
        {
          "output_type": "stream",
          "name": "stdout",
          "text": [
            "[102.38635811 103.96649277 102.08262639 104.4284729  103.15496902\n",
            " 101.70138459 105.73290321  99.73991807 101.43254552 100.82467881\n",
            " 103.41232391 104.10441247  98.92719658 103.14813372  99.89849649\n",
            " 103.22538898 100.7940078  101.97667153 102.88998655  98.61033662\n",
            " 101.19016059  98.44344723 101.69657658  99.36981894  98.68990031\n",
            " 104.51426943  99.11749504 105.63996469 101.76342416 104.0365091\n",
            "  95.95677882 102.65233555 101.26488484 103.45259202 105.09349501\n",
            "  99.12513611 107.24192731 102.07539559 101.37362028  98.91608495\n",
            " 107.23300761 102.23949811 101.6694349  103.16872082  98.0104404\n",
            " 100.93268675 102.97740858 101.90458984 102.50552891 105.88181833]\n",
            "mean=102.01 stdv=2.41\n",
            "ztest_Score = 5.853082458664292\n",
            "p_value = 2.4127236236675368e-09\n",
            "Reject the null hypothesis that the means are equal.  - They are different\n"
          ]
        }
      ]
    },
    {
      "cell_type": "code",
      "source": [
        "import numpy as np\n",
        "from scipy.stats import ttest_1samp, wilcoxon, ttest_ind, mannwhitneyu\n",
        "mean_Session_length = 101\n",
        "sd_Session_length = 15/math.sqrt(50)\n",
        "\n",
        "data = sd_Session_length*randn(50)+mean_Session_length\n",
        "print(data)\n",
        "alpha = 0.05\n",
        "\n",
        "Nathan_Default_mean =100\n",
        "# one sample t-test\n",
        "# null hypothesis: expected value = Nathan_Default_mean\n",
        "t_statistic, p_value = ttest_1samp(data, Nathan_Default_mean)\n",
        "\n",
        "print(\"one-sample t-test, p value=\", p_value)\n",
        "if p_value > alpha:\n",
        "\tprint('Cant reject null hypothesis that the means are equal.')\n",
        "else:\n",
        "\tprint('Reject the null hypothesis that the means are equal. - They are different')"
      ],
      "metadata": {
        "colab": {
          "base_uri": "https://localhost:8080/"
        },
        "id": "sTfe_ujNyrc9",
        "outputId": "29f8cfba-5ae3-43eb-bf84-7425321f9d50"
      },
      "execution_count": null,
      "outputs": [
        {
          "output_type": "stream",
          "name": "stdout",
          "text": [
            "[103.58478485 101.53183214 101.65041042 105.85406888  95.60953177\n",
            "  98.39022268 102.09739575 101.29766337  99.70865593 100.14356686\n",
            "  99.10474412  99.00582841 100.58067449  99.18714964 102.57031664\n",
            " 101.66867094 102.24773374 100.45393153 103.6200743  101.27005074\n",
            " 100.95594861  99.88323673 102.79952829 100.95246638  98.90768304\n",
            " 104.38075459 101.41358982  95.928711   101.51677069 101.34365254\n",
            "  99.18390363 101.41251013 104.6485744   98.5138005   98.84414248\n",
            "  97.11463273  97.91646952 100.98371692 101.64243509  99.87144206\n",
            " 103.01115275 101.445062   101.65186568  99.1911951  103.95469261\n",
            "  99.38648428 103.49144632 100.10061675 101.12379782 101.37705612]\n",
            "one-sample t-test, p value= 0.006475830779220039\n",
            "Reject the null hypothesis that the means are equal. - They are different\n"
          ]
        }
      ]
    },
    {
      "cell_type": "code",
      "source": [
        "group1 = 5 * randn(100) + 2\n",
        "#group1 = 5 * randn(100) +2.8\n",
        "group2 = 5 * randn(100) \n",
        "print(group1)\n",
        "print(\"***********************************\")\n",
        "print(group2)\n",
        "print(\"***********************************\")\n",
        "t_statistic, p_value = ttest_ind(group1, group2)\n",
        "alpha = 0.05\n",
        "# p_value < 0.05 => alternative hypothesis:\n",
        "# they don't have the same mean at the 5% significance level\n",
        "print(\"two-sample t-test p value\", p_value)\n",
        "if p_value > alpha:\n",
        "\tprint('Cant Reject null hypothesis that the means are equal.')\n",
        "else:\n",
        "\tprint('Reject the null hypothesis that the means are equal. - They are different')"
      ],
      "metadata": {
        "colab": {
          "base_uri": "https://localhost:8080/"
        },
        "id": "2s32PVwo1cT7",
        "outputId": "c89a80cf-3d2b-472b-ceda-2d8e4ccb5cde"
      },
      "execution_count": null,
      "outputs": [
        {
          "output_type": "stream",
          "name": "stdout",
          "text": [
            "[  3.60957379   3.13975681  -3.89202199   4.24933477   1.41680546\n",
            "   7.96206228   9.80798599  -0.31305577   2.10699295  -2.43935683\n",
            "  12.60232371   6.8990425    8.24646135   3.37197163   3.87686112\n",
            "   8.28354932  -6.36388112   5.76478328   6.68697398  -7.57333631\n",
            "   3.53441444  -0.25738119   4.31688318  15.36224924   1.16765544\n",
            "   6.12237036   0.99018275 -10.8060901    0.79951433   5.7069828\n",
            "   2.7386081    5.16028073  -3.49823534   5.26215341   7.31803379\n",
            "   2.45169376   1.98361124  11.26460043  13.38564568   3.40221646\n",
            "   0.40451603  -1.52408655  -0.62020007   3.37305999   5.50072925\n",
            "  -0.80464132  -0.5723121    8.54922451   1.00729465   7.94855598\n",
            "   6.24817867   7.79206965   8.3144887   -8.23189786   5.43252611\n",
            "   0.30600701   1.69979873   0.32522573   4.54503586  12.00706093\n",
            "  -4.82797139   6.27878338   6.13156623   2.14542175  -3.51053605\n",
            "  -8.73343912  -1.53697127  -0.99917923   7.86966219   1.20756367\n",
            "   4.57355149   4.47430772  -0.95252413  -2.55120609  -5.38622243\n",
            "   4.33660835   1.71974619  10.78858629   6.91751307   2.39694386\n",
            "   9.99840252   7.83882578  11.3184492   -3.19666887  13.69741322\n",
            "  -4.58526923  -0.33211805   1.01660125  -2.80003498   4.10072767\n",
            "  -0.86059864   1.68703721   5.64039692   5.038427     1.1012943\n",
            "  -0.86385792   1.05839566   4.88702596   2.20790606   1.00167335]\n",
            "***********************************\n",
            "[ -1.31466029  -0.63763758  -0.03527044   5.21570569  -2.29569124\n",
            "   2.96398305   0.96310081   3.04096971   2.69337425   4.4083654\n",
            "   9.25465403  -0.16573979   0.96005678   3.035715     5.8954417\n",
            "  -0.85327985   6.25882844   4.19057207  10.10161029   7.97793108\n",
            "   0.55629311  -0.41722876  10.77508689   3.76784585  -5.79153167\n",
            "  -2.59558987   0.49046886   3.12196184   0.74151199   4.24823543\n",
            "  -4.54258764   0.95340284   1.18271924  -7.75145963   3.75846079\n",
            "   8.67107353  -0.03527646  -2.23267914  -1.524073     8.03796728\n",
            "  -1.69974797   5.66547826   5.80996912   7.98504777  -3.6748673\n",
            "  -1.85330652  -0.07803339  -4.69839298   2.77728363   1.86038608\n",
            "  -0.50908915  -3.10426556  -1.10695961   2.23109242  -4.45696192\n",
            "   4.32793896  -3.1063657   -5.34611946  -3.59133126  -0.63370643\n",
            "   2.13810319   2.24978896   2.85812931   1.26173284   3.57711524\n",
            "   7.85960348   4.04024504   1.96888708  -2.65417064   3.74014557\n",
            "   1.03515539  -6.07380846   1.50371905   4.11318982   2.3688119\n",
            "  11.46615554   8.67259671   0.17226214  -7.0096176   -0.18716592\n",
            "  -0.70897296   4.48327701 -10.93658169  -9.49133072   2.08123024\n",
            "   1.37666353  -2.34927337  -4.04105728   5.63088872  -1.23872845\n",
            "  -0.08357774   2.32833864  -2.58676808   6.02931533   7.95828276\n",
            "   0.32944007  -8.0189948    3.57949969   6.66508882   3.90812848]\n",
            "***********************************\n",
            "two-sample t-test p value 0.015720996678168078\n",
            "Reject the null hypothesis that the means are equal. - They are different\n"
          ]
        }
      ]
    },
    {
      "cell_type": "code",
      "metadata": {
        "colab": {
          "base_uri": "https://localhost:8080/"
        },
        "id": "V5y4Q3R2A4ak",
        "outputId": "262adefc-2d11-4c3d-ce33-6c2cbfd2d92a"
      },
      "source": [
        "#Another t test example:\n",
        "\n",
        "from math import sqrt\n",
        "from numpy.random import seed\n",
        "from numpy.random import randn\n",
        "from numpy import mean\n",
        "from scipy.stats import t\n",
        "from scipy.stats import sem\n",
        "\n",
        "\n",
        "# seed the random number generator\n",
        "seed(1)\n",
        "# generate two independent samples\n",
        "data1 = 5 * randn(100) + 54\n",
        "data2 = 5 * randn(100) + 50\n",
        "# calculate the t test\n",
        "df = len(data1) + len(data2) - 2\n",
        "alpha = 0.05\n",
        "\n",
        "mean1, mean2 = mean(data1), mean(data2)\n",
        "\n",
        "se1, se2 = sem(data1), sem(data2)\n",
        "\n",
        "sed = sqrt(se1**2.0 + se2**2.0)\n",
        "\n",
        "t_stat = (mean1 - mean2) / sed\n",
        "\n",
        "df = len(data1) + len(data2) - 2\n",
        "\t# calculate the critical value\n",
        "p = (1.0 - t.cdf(abs(t_stat), df)) * 2.0\n",
        "\n",
        "print('t=%.3f, df=%d,  p=%.3f' % (t_stat, df,  p))\n",
        "\n",
        "# interpret via p-value\n",
        "if p > alpha:\n",
        "\tprint('Cant reject null hypothesis that the means are equal.')\n",
        "else:\n",
        "\tprint('Reject the null hypothesis that the means are equal.')"
      ],
      "execution_count": null,
      "outputs": [
        {
          "output_type": "stream",
          "name": "stdout",
          "text": [
            "t=5.479, df=198,  p=0.000\n",
            "Reject the null hypothesis that the means are equal.\n"
          ]
        }
      ]
    },
    {
      "cell_type": "markdown",
      "source": [],
      "metadata": {
        "id": "TOwW2LBwUoV3"
      }
    },
    {
      "cell_type": "code",
      "metadata": {
        "id": "_3nUcnNLKsy8",
        "colab": {
          "base_uri": "https://localhost:8080/"
        },
        "outputId": "018b6338-edbe-41d6-9575-3366fb929224"
      },
      "source": [
        "from statsmodels.stats.power import zt_ind_solve_power\n",
        "from statsmodels.stats.proportion import proportion_effectsize as es\n",
        " \n",
        "#zt_ind_solve_power(effect_size=es(prop1=0.1, prop2=0.12), alpha=0.05, power=0.8, alternative=\"two-sided\")\n",
        "zt_ind_solve_power(effect_size=es(prop1=0.1, prop2=0.12), alpha=0.05, power=0.8, alternative=\"smaller\")\n"
      ],
      "execution_count": null,
      "outputs": [
        {
          "output_type": "execute_result",
          "data": {
            "text/plain": [
              "3020.515856462414"
            ]
          },
          "metadata": {},
          "execution_count": 15
        }
      ]
    },
    {
      "cell_type": "code",
      "metadata": {
        "id": "stWHC70v9Ghh",
        "colab": {
          "base_uri": "https://localhost:8080/"
        },
        "outputId": "aadf7fda-29b0-48c4-e051-bbeb56dda2b3"
      },
      "source": [
        "# chi-squared test with similar proportions\n",
        "from scipy.stats import chi2_contingency\n",
        "from scipy.stats import chi2\n",
        "# contingency table\n",
        "#table = [\t[90, 165],[84,  307]]\n",
        "table = [\t[90, 165, 34],[84,  307, 65]]\n",
        "print(table)\n",
        "U, p, dof, expected = chi2_contingency(table, correction=False)\n",
        "print(U)\n",
        "print(p)\n",
        "print('dof=%d' % dof)\n",
        "print(expected)\n",
        "\n",
        "\n",
        "# interpret p-value\n",
        "alpha = 0.05\n",
        "print('significance=%.3f, p=%.3f' % (alpha, p))\n",
        "if p <= alpha:\n",
        "\tprint('Dependent (reject H0)')\n",
        "else:\n",
        "\tprint('Independent (fail to# reject H0)')"
      ],
      "execution_count": null,
      "outputs": [
        {
          "output_type": "stream",
          "name": "stdout",
          "text": [
            "[[90, 165, 34], [84, 307, 65]]\n",
            "16.003556618937814\n",
            "0.00033486660165148337\n",
            "dof=2\n",
            "[[ 67.49798658 183.09798658  38.40402685]\n",
            " [106.50201342 288.90201342  60.59597315]]\n",
            "significance=0.050, p=0.000\n",
            "Dependent (reject H0)\n"
          ]
        }
      ]
    }
  ]
}